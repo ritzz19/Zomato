{
  "nbformat": 4,
  "nbformat_minor": 0,
  "metadata": {
    "colab": {
      "name": "Zomato.ipynb",
      "provenance": [],
      "collapsed_sections": [],
      "authorship_tag": "ABX9TyMWEcK4gT5devKl0UuCgaMx",
      "include_colab_link": true
    },
    "kernelspec": {
      "name": "python3",
      "display_name": "Python 3"
    }
  },
  "cells": [
    {
      "cell_type": "markdown",
      "metadata": {
        "id": "view-in-github",
        "colab_type": "text"
      },
      "source": [
        "<a href=\"https://colab.research.google.com/github/ritzz19/Zomato/blob/master/Zomato.ipynb\" target=\"_parent\"><img src=\"https://colab.research.google.com/assets/colab-badge.svg\" alt=\"Open In Colab\"/></a>"
      ]
    },
    {
      "cell_type": "markdown",
      "metadata": {
        "id": "0rjq6RS52VII",
        "colab_type": "text"
      },
      "source": [
        "# Importing Data"
      ]
    },
    {
      "cell_type": "code",
      "metadata": {
        "id": "GpIGjbGm79Oq",
        "colab_type": "code",
        "outputId": "06f82c55-1796-4848-b90e-b1fc734164e6",
        "colab": {
          "base_uri": "https://localhost:8080/",
          "height": 632
        }
      },
      "source": [
        "import pandas as pd\n",
        "data=pd.read_excel(\"zomato_train.xlsx\")\n",
        "data.head(5)"
      ],
      "execution_count": 0,
      "outputs": [
        {
          "output_type": "execute_result",
          "data": {
            "text/html": [
              "<div>\n",
              "<style scoped>\n",
              "    .dataframe tbody tr th:only-of-type {\n",
              "        vertical-align: middle;\n",
              "    }\n",
              "\n",
              "    .dataframe tbody tr th {\n",
              "        vertical-align: top;\n",
              "    }\n",
              "\n",
              "    .dataframe thead th {\n",
              "        text-align: right;\n",
              "    }\n",
              "</style>\n",
              "<table border=\"1\" class=\"dataframe\">\n",
              "  <thead>\n",
              "    <tr style=\"text-align: right;\">\n",
              "      <th></th>\n",
              "      <th>url</th>\n",
              "      <th>address</th>\n",
              "      <th>name</th>\n",
              "      <th>online_order</th>\n",
              "      <th>book_table</th>\n",
              "      <th>votes</th>\n",
              "      <th>phone</th>\n",
              "      <th>location</th>\n",
              "      <th>rest_type</th>\n",
              "      <th>dish_liked</th>\n",
              "      <th>cuisines</th>\n",
              "      <th>approx_cost(for two people)</th>\n",
              "      <th>reviews_list</th>\n",
              "      <th>menu_item</th>\n",
              "      <th>listed_in(type)</th>\n",
              "      <th>listed_in(city)</th>\n",
              "      <th>rates</th>\n",
              "    </tr>\n",
              "  </thead>\n",
              "  <tbody>\n",
              "    <tr>\n",
              "      <th>0</th>\n",
              "      <td>https://www.zomato.com/bangalore/al-swaad-take...</td>\n",
              "      <td>18, Masjid Street, Opp Akbari Masjid Neelasand...</td>\n",
              "      <td>Al Swaad Take Away</td>\n",
              "      <td>Yes</td>\n",
              "      <td>No</td>\n",
              "      <td>13</td>\n",
              "      <td>+91 7019942388\\n+91 9902335220</td>\n",
              "      <td>Richmond Road</td>\n",
              "      <td>Quick Bites</td>\n",
              "      <td>NaN</td>\n",
              "      <td>North Indian, South Indian, Arabian</td>\n",
              "      <td>350</td>\n",
              "      <td>[('Rated 1.0', 'RATED\\n  If U need reasonable ...</td>\n",
              "      <td>['Beef Seekh Kabab', 'Beef BBQ Chops', 'Beef M...</td>\n",
              "      <td>Delivery</td>\n",
              "      <td>Residency Road</td>\n",
              "      <td>3.1</td>\n",
              "    </tr>\n",
              "    <tr>\n",
              "      <th>1</th>\n",
              "      <td>https://www.zomato.com/bangalore/the-boozy-gri...</td>\n",
              "      <td>2nd Floor, 1st A Cross Road, Jyothi Nivas Coll...</td>\n",
              "      <td>The Boozy Griffin</td>\n",
              "      <td>No</td>\n",
              "      <td>Yes</td>\n",
              "      <td>5015</td>\n",
              "      <td>080 33512954</td>\n",
              "      <td>Koramangala 5th Block</td>\n",
              "      <td>Casual Dining, Pub</td>\n",
              "      <td>Cocktails, Craft Beer, Salads, Devils Chicken,...</td>\n",
              "      <td>European, Continental</td>\n",
              "      <td>1,800</td>\n",
              "      <td>[('Rated 5.0', 'RATED\\n  Really great ambience...</td>\n",
              "      <td>[]</td>\n",
              "      <td>Dine-out</td>\n",
              "      <td>Koramangala 6th Block</td>\n",
              "      <td>4.6</td>\n",
              "    </tr>\n",
              "    <tr>\n",
              "      <th>2</th>\n",
              "      <td>https://www.zomato.com/bangalore/barkat-btm-ba...</td>\n",
              "      <td>28th, 8th Cross, Maruthi Nagar, Madiwala, BTM,...</td>\n",
              "      <td>Barkat</td>\n",
              "      <td>No</td>\n",
              "      <td>No</td>\n",
              "      <td>6</td>\n",
              "      <td>+91 9019670836</td>\n",
              "      <td>BTM</td>\n",
              "      <td>Quick Bites</td>\n",
              "      <td>NaN</td>\n",
              "      <td>Kerala</td>\n",
              "      <td>250</td>\n",
              "      <td>[]</td>\n",
              "      <td>[]</td>\n",
              "      <td>Dine-out</td>\n",
              "      <td>Koramangala 4th Block</td>\n",
              "      <td>3.4</td>\n",
              "    </tr>\n",
              "    <tr>\n",
              "      <th>3</th>\n",
              "      <td>https://www.zomato.com/bangalore/sriracha-lave...</td>\n",
              "      <td>204, 2nd Level, 4th Floor, Comet Block, UB Cit...</td>\n",
              "      <td>Sriracha</td>\n",
              "      <td>No</td>\n",
              "      <td>No</td>\n",
              "      <td>699</td>\n",
              "      <td>+91 8041755366\\n+91 7022422473</td>\n",
              "      <td>Lavelle Road</td>\n",
              "      <td>Casual Dining</td>\n",
              "      <td>Noodles, Laksa, Cocktails, Dumplings, Sangria,...</td>\n",
              "      <td>Thai, Chinese, Indonesian, Asian, Momos</td>\n",
              "      <td>1,500</td>\n",
              "      <td>[('Rated 3.0', 'RATED\\n  Another restaurant in...</td>\n",
              "      <td>[]</td>\n",
              "      <td>Dine-out</td>\n",
              "      <td>Residency Road</td>\n",
              "      <td>4.3</td>\n",
              "    </tr>\n",
              "    <tr>\n",
              "      <th>4</th>\n",
              "      <td>https://www.zomato.com/bangalore/sri-ganesh-ju...</td>\n",
              "      <td>513, Opposite Ganesh Temple, Koramangala 8th B...</td>\n",
              "      <td>Sri Ganesh Juice Junction</td>\n",
              "      <td>Yes</td>\n",
              "      <td>No</td>\n",
              "      <td>129</td>\n",
              "      <td>+91 9845623889</td>\n",
              "      <td>Koramangala 8th Block</td>\n",
              "      <td>Beverage Shop</td>\n",
              "      <td>NaN</td>\n",
              "      <td>Juices, Fast Food</td>\n",
              "      <td>150</td>\n",
              "      <td>[('Rated 4.0', 'RATED\\n  Good cafe with most v...</td>\n",
              "      <td>['Dry Fruit Milkshake', 'Wheat Grass with Wate...</td>\n",
              "      <td>Delivery</td>\n",
              "      <td>Koramangala 6th Block</td>\n",
              "      <td>3.7</td>\n",
              "    </tr>\n",
              "  </tbody>\n",
              "</table>\n",
              "</div>"
            ],
            "text/plain": [
              "                                                 url  ... rates\n",
              "0  https://www.zomato.com/bangalore/al-swaad-take...  ...  3.1 \n",
              "1  https://www.zomato.com/bangalore/the-boozy-gri...  ...  4.6 \n",
              "2  https://www.zomato.com/bangalore/barkat-btm-ba...  ...  3.4 \n",
              "3  https://www.zomato.com/bangalore/sriracha-lave...  ...  4.3 \n",
              "4  https://www.zomato.com/bangalore/sri-ganesh-ju...  ...  3.7 \n",
              "\n",
              "[5 rows x 17 columns]"
            ]
          },
          "metadata": {
            "tags": []
          },
          "execution_count": 354
        }
      ]
    },
    {
      "cell_type": "code",
      "metadata": {
        "id": "kN6QmtT0-Wbn",
        "colab_type": "code",
        "outputId": "c00a4036-e567-4221-faff-a85eac3eb50a",
        "colab": {
          "base_uri": "https://localhost:8080/",
          "height": 102
        }
      },
      "source": [
        "data.columns"
      ],
      "execution_count": 0,
      "outputs": [
        {
          "output_type": "execute_result",
          "data": {
            "text/plain": [
              "Index(['url', 'address', 'name', 'online_order', 'book_table', 'votes',\n",
              "       'phone', 'location', 'rest_type', 'dish_liked', 'cuisines',\n",
              "       'approx_cost(for two people)', 'reviews_list', 'menu_item',\n",
              "       'listed_in(type)', 'listed_in(city)', 'rates'],\n",
              "      dtype='object')"
            ]
          },
          "metadata": {
            "tags": []
          },
          "execution_count": 355
        }
      ]
    },
    {
      "cell_type": "code",
      "metadata": {
        "id": "1V7QK6ZYOAzU",
        "colab_type": "code",
        "colab": {}
      },
      "source": [
        "data.rename(columns={'approx_cost(for two people)': 'average_cost'}, inplace=True)"
      ],
      "execution_count": 0,
      "outputs": []
    },
    {
      "cell_type": "code",
      "metadata": {
        "id": "BKS3K76O-ytg",
        "colab_type": "code",
        "colab": {}
      },
      "source": [
        "# As we can see we don't require these columns\n",
        "data.drop([\"url\",\"address\",\"phone\",'listed_in(type)','listed_in(city)'],axis=1,inplace=True)"
      ],
      "execution_count": 0,
      "outputs": []
    },
    {
      "cell_type": "code",
      "metadata": {
        "id": "gVthxHPkwRv-",
        "colab_type": "code",
        "colab": {}
      },
      "source": [
        "data.dropna(how=\"any\",axis=0,inplace=True) #Dropping all null values"
      ],
      "execution_count": 0,
      "outputs": []
    },
    {
      "cell_type": "code",
      "metadata": {
        "id": "bj_w2OqtwfVs",
        "colab_type": "code",
        "outputId": "33ef86ce-ddc4-4acf-eb8c-5428e7cac9d1",
        "colab": {
          "base_uri": "https://localhost:8080/",
          "height": 238
        }
      },
      "source": [
        "data.dtypes"
      ],
      "execution_count": 0,
      "outputs": [
        {
          "output_type": "execute_result",
          "data": {
            "text/plain": [
              "name            object\n",
              "online_order    object\n",
              "book_table      object\n",
              "votes            int64\n",
              "location        object\n",
              "rest_type       object\n",
              "dish_liked      object\n",
              "cuisines        object\n",
              "average_cost    object\n",
              "reviews_list    object\n",
              "menu_item       object\n",
              "rates           object\n",
              "dtype: object"
            ]
          },
          "metadata": {
            "tags": []
          },
          "execution_count": 359
        }
      ]
    },
    {
      "cell_type": "markdown",
      "metadata": {
        "id": "_PjevylCOiLv",
        "colab_type": "text"
      },
      "source": [
        "# Top 10 restaurants in Bangalore"
      ]
    },
    {
      "cell_type": "code",
      "metadata": {
        "id": "IkwcdW4c-_DQ",
        "colab_type": "code",
        "outputId": "747622d4-7016-49c1-e4e0-aae9ecb9d13d",
        "colab": {
          "base_uri": "https://localhost:8080/",
          "height": 204
        }
      },
      "source": [
        "data.name.value_counts().head(10)"
      ],
      "execution_count": 0,
      "outputs": [
        {
          "output_type": "execute_result",
          "data": {
            "text/plain": [
              "Onesta                    62\n",
              "Empire Restaurant         57\n",
              "KFC                       47\n",
              "Burger King               47\n",
              "McDonald's                47\n",
              "Faasos                    46\n",
              "Smally's Resto Cafe       45\n",
              "Domino's Pizza            44\n",
              "Corner House Ice Cream    43\n",
              "Pizza Hut                 43\n",
              "Name: name, dtype: int64"
            ]
          },
          "metadata": {
            "tags": []
          },
          "execution_count": 360
        }
      ]
    },
    {
      "cell_type": "code",
      "metadata": {
        "id": "I92SAlSDOf55",
        "colab_type": "code",
        "outputId": "4453b199-7c72-4356-a3d3-f3a239bac33c",
        "colab": {
          "base_uri": "https://localhost:8080/",
          "height": 538
        }
      },
      "source": [
        "plt.figure(figsize = (12,6))\n",
        "ax = data.name.value_counts()[:10].plot(kind = 'bar')\n",
        "ax.legend(['* Restaurants'])\n",
        "plt.xlabel(\"Name of Restaurant\")\n",
        "plt.ylabel(\"Count of Restaurants\")\n",
        "plt.title(\"Name vs Number of Restaurant\",fontsize =20, weight = 'bold')"
      ],
      "execution_count": 0,
      "outputs": [
        {
          "output_type": "execute_result",
          "data": {
            "text/plain": [
              "Text(0.5, 1.0, 'Name vs Number of Restaurant')"
            ]
          },
          "metadata": {
            "tags": []
          },
          "execution_count": 361
        },
        {
          "output_type": "display_data",
          "data": {
            "image/png": "[encoded data removed]",
            "text/plain": [
              "<Figure size 864x432 with 1 Axes>"
            ]
          },
          "metadata": {
            "tags": []
          }
        }
      ]
    },
    {
      "cell_type": "markdown",
      "metadata": {
        "id": "buhKhFpIPxxH",
        "colab_type": "text"
      },
      "source": [
        "Conclusion: Cafe coffee day is most famous in Bangalore"
      ]
    },
    {
      "cell_type": "code",
      "metadata": {
        "id": "5mIcDqOSOet4",
        "colab_type": "code",
        "colab": {}
      },
      "source": [
        ""
      ],
      "execution_count": 0,
      "outputs": []
    },
    {
      "cell_type": "markdown",
      "metadata": {
        "id": "eG8C22j8QDBD",
        "colab_type": "text"
      },
      "source": [
        "# Online Orders"
      ]
    },
    {
      "cell_type": "code",
      "metadata": {
        "id": "QUzGLe1yPwPj",
        "colab_type": "code",
        "outputId": "e615e032-3d37-41ef-ffa1-e8cbb1941f82",
        "colab": {
          "base_uri": "https://localhost:8080/",
          "height": 68
        }
      },
      "source": [
        "data.online_order.value_counts()"
      ],
      "execution_count": 0,
      "outputs": [
        {
          "output_type": "execute_result",
          "data": {
            "text/plain": [
              "Yes    13083\n",
              "No      5509\n",
              "Name: online_order, dtype: int64"
            ]
          },
          "metadata": {
            "tags": []
          },
          "execution_count": 362
        }
      ]
    },
    {
      "cell_type": "code",
      "metadata": {
        "id": "3LbZq0qZ_70V",
        "colab_type": "code",
        "outputId": "65977a48-ede2-4856-913c-58a14d777735",
        "colab": {
          "base_uri": "https://localhost:8080/",
          "height": 367
        }
      },
      "source": [
        "import matplotlib.pyplot as plt\n",
        "import seaborn as sns\n",
        "ax= sns.countplot(data['online_order'])\n",
        "plt.title('Number of Restaurants accepting online orders', weight='bold')\n",
        "plt.xlabel('online orders')"
      ],
      "execution_count": 0,
      "outputs": [
        {
          "output_type": "execute_result",
          "data": {
            "text/plain": [
              "Text(0.5, 0, 'online orders')"
            ]
          },
          "metadata": {
            "tags": []
          },
          "execution_count": 363
        },
        {
          "output_type": "display_data",
          "data": {
            "image/png": "[encoded data removed]",
            "text/plain": [
              "<Figure size 1080x360 with 1 Axes>"
            ]
          },
          "metadata": {
            "tags": []
          }
        }
      ]
    },
    {
      "cell_type": "code",
      "metadata": {
        "id": "DUjHy7Z5Rzze",
        "colab_type": "code",
        "outputId": "9db79027-7955-4cea-9d20-371f3c36435a",
        "colab": {
          "base_uri": "https://localhost:8080/",
          "height": 142
        }
      },
      "source": [
        "Rate_Status = pd.crosstab(index = data[\"online_order\"],  # Make a crosstab\n",
        "                              columns=\"rates\",normalize=True)      # Name the count column\n",
        "\n",
        "Rate_Status"
      ],
      "execution_count": 0,
      "outputs": [
        {
          "output_type": "execute_result",
          "data": {
            "text/html": [
              "<div>\n",
              "<style scoped>\n",
              "    .dataframe tbody tr th:only-of-type {\n",
              "        vertical-align: middle;\n",
              "    }\n",
              "\n",
              "    .dataframe tbody tr th {\n",
              "        vertical-align: top;\n",
              "    }\n",
              "\n",
              "    .dataframe thead th {\n",
              "        text-align: right;\n",
              "    }\n",
              "</style>\n",
              "<table border=\"1\" class=\"dataframe\">\n",
              "  <thead>\n",
              "    <tr style=\"text-align: right;\">\n",
              "      <th>col_0</th>\n",
              "      <th>rates</th>\n",
              "    </tr>\n",
              "    <tr>\n",
              "      <th>online_order</th>\n",
              "      <th></th>\n",
              "    </tr>\n",
              "  </thead>\n",
              "  <tbody>\n",
              "    <tr>\n",
              "      <th>No</th>\n",
              "      <td>0.29631</td>\n",
              "    </tr>\n",
              "    <tr>\n",
              "      <th>Yes</th>\n",
              "      <td>0.70369</td>\n",
              "    </tr>\n",
              "  </tbody>\n",
              "</table>\n",
              "</div>"
            ],
            "text/plain": [
              "col_0           rates\n",
              "online_order         \n",
              "No            0.29631\n",
              "Yes           0.70369"
            ]
          },
          "metadata": {
            "tags": []
          },
          "execution_count": 364
        }
      ]
    },
    {
      "cell_type": "code",
      "metadata": {
        "id": "Bq-taDStSmuX",
        "colab_type": "code",
        "outputId": "96ce1c01-f2cf-4dc0-f247-2a9ca92c479b",
        "colab": {
          "base_uri": "https://localhost:8080/",
          "height": 359
        }
      },
      "source": [
        "Rate_Status.plot.bar()"
      ],
      "execution_count": 0,
      "outputs": [
        {
          "output_type": "execute_result",
          "data": {
            "text/plain": [
              "<matplotlib.axes._subplots.AxesSubplot at 0x7fa65cc59f98>"
            ]
          },
          "metadata": {
            "tags": []
          },
          "execution_count": 365
        },
        {
          "output_type": "display_data",
          "data": {
            "image/png": "[encoded data removed]",
            "text/plain": [
              "<Figure size 1080x360 with 1 Axes>"
            ]
          },
          "metadata": {
            "tags": []
          }
        }
      ]
    },
    {
      "cell_type": "markdown",
      "metadata": {
        "id": "9iYAvFvyRfsM",
        "colab_type": "text"
      },
      "source": [
        "It's observed from above graph that restaurants which have online order has better rates."
      ]
    },
    {
      "cell_type": "markdown",
      "metadata": {
        "id": "I7VVX1DVTCLj",
        "colab_type": "text"
      },
      "source": [
        "# Book table"
      ]
    },
    {
      "cell_type": "code",
      "metadata": {
        "id": "l3b3n_wRDomR",
        "colab_type": "code",
        "outputId": "e571e350-066d-4124-d82b-e973c32f8ff8",
        "colab": {
          "base_uri": "https://localhost:8080/",
          "height": 68
        }
      },
      "source": [
        "data.book_table.value_counts()"
      ],
      "execution_count": 0,
      "outputs": [
        {
          "output_type": "execute_result",
          "data": {
            "text/plain": [
              "No     13755\n",
              "Yes     4837\n",
              "Name: book_table, dtype: int64"
            ]
          },
          "metadata": {
            "tags": []
          },
          "execution_count": 366
        }
      ]
    },
    {
      "cell_type": "code",
      "metadata": {
        "id": "_OhuocvID-bx",
        "colab_type": "code",
        "outputId": "8f4e6e2c-2acf-4cc8-9f3d-034d935ee508",
        "colab": {
          "base_uri": "https://localhost:8080/",
          "height": 142
        }
      },
      "source": [
        "Rate_Status1 = pd.crosstab(index = data[\"book_table\"],  # Make a crosstab\n",
        "                              columns=\"rates\",normalize=True)      # Name the count column\n",
        "\n",
        "Rate_Status1"
      ],
      "execution_count": 0,
      "outputs": [
        {
          "output_type": "execute_result",
          "data": {
            "text/html": [
              "<div>\n",
              "<style scoped>\n",
              "    .dataframe tbody tr th:only-of-type {\n",
              "        vertical-align: middle;\n",
              "    }\n",
              "\n",
              "    .dataframe tbody tr th {\n",
              "        vertical-align: top;\n",
              "    }\n",
              "\n",
              "    .dataframe thead th {\n",
              "        text-align: right;\n",
              "    }\n",
              "</style>\n",
              "<table border=\"1\" class=\"dataframe\">\n",
              "  <thead>\n",
              "    <tr style=\"text-align: right;\">\n",
              "      <th>col_0</th>\n",
              "      <th>rates</th>\n",
              "    </tr>\n",
              "    <tr>\n",
              "      <th>book_table</th>\n",
              "      <th></th>\n",
              "    </tr>\n",
              "  </thead>\n",
              "  <tbody>\n",
              "    <tr>\n",
              "      <th>No</th>\n",
              "      <td>0.739834</td>\n",
              "    </tr>\n",
              "    <tr>\n",
              "      <th>Yes</th>\n",
              "      <td>0.260166</td>\n",
              "    </tr>\n",
              "  </tbody>\n",
              "</table>\n",
              "</div>"
            ],
            "text/plain": [
              "col_0          rates\n",
              "book_table          \n",
              "No          0.739834\n",
              "Yes         0.260166"
            ]
          },
          "metadata": {
            "tags": []
          },
          "execution_count": 367
        }
      ]
    },
    {
      "cell_type": "code",
      "metadata": {
        "id": "ooAAF1h-EZJV",
        "colab_type": "code",
        "outputId": "220d5f85-4031-4ad6-c49a-09121b588c97",
        "colab": {
          "base_uri": "https://localhost:8080/",
          "height": 359
        }
      },
      "source": [
        "Rate_Status1.plot.bar()"
      ],
      "execution_count": 0,
      "outputs": [
        {
          "output_type": "execute_result",
          "data": {
            "text/plain": [
              "<matplotlib.axes._subplots.AxesSubplot at 0x7fa65d67a668>"
            ]
          },
          "metadata": {
            "tags": []
          },
          "execution_count": 368
        },
        {
          "output_type": "display_data",
          "data": {
            "image/png": "[encoded data removed]",
            "text/plain": [
              "<Figure size 1080x360 with 1 Axes>"
            ]
          },
          "metadata": {
            "tags": []
          }
        }
      ]
    },
    {
      "cell_type": "markdown",
      "metadata": {
        "id": "2f-QWW1eTihZ",
        "colab_type": "text"
      },
      "source": [
        "It's observed from above graph that restaurants which have no booking table has better rates."
      ]
    },
    {
      "cell_type": "markdown",
      "metadata": {
        "id": "Tf7vUCb3VRLQ",
        "colab_type": "text"
      },
      "source": [
        "# Location"
      ]
    },
    {
      "cell_type": "code",
      "metadata": {
        "id": "qnnEuD5UThp_",
        "colab_type": "code",
        "outputId": "a9f0f97d-65ea-4c4e-c9e1-afe0837f4f40",
        "colab": {
          "base_uri": "https://localhost:8080/",
          "height": 204
        }
      },
      "source": [
        "data.location.value_counts().head(10)"
      ],
      "execution_count": 0,
      "outputs": [
        {
          "output_type": "execute_result",
          "data": {
            "text/plain": [
              "Koramangala 5th Block    1427\n",
              "BTM                      1173\n",
              "Indiranagar              1076\n",
              "HSR                       913\n",
              "Jayanagar                 846\n",
              "JP Nagar                  806\n",
              "Whitefield                656\n",
              "Koramangala 6th Block     591\n",
              "Koramangala 7th Block     583\n",
              "Marathahalli              551\n",
              "Name: location, dtype: int64"
            ]
          },
          "metadata": {
            "tags": []
          },
          "execution_count": 369
        }
      ]
    },
    {
      "cell_type": "code",
      "metadata": {
        "id": "LfgQA8cjG7X3",
        "colab_type": "code",
        "colab": {}
      },
      "source": [
        "Rate_loc = pd.crosstab(index = data[\"location\"],  # Make a crosstab\n",
        "                              columns=\"rates\",normalize=True)      # Name the count column\n",
        "\n",
        "Rate_location=Rate_loc.head(10)"
      ],
      "execution_count": 0,
      "outputs": []
    },
    {
      "cell_type": "code",
      "metadata": {
        "id": "37ZRtF3MWad3",
        "colab_type": "code",
        "outputId": "a876f1dd-6e90-4dab-c0a6-fb574a06fcdc",
        "colab": {
          "base_uri": "https://localhost:8080/",
          "height": 390
        }
      },
      "source": [
        "Rate_loc.head(10)"
      ],
      "execution_count": 0,
      "outputs": [
        {
          "output_type": "execute_result",
          "data": {
            "text/html": [
              "<div>\n",
              "<style scoped>\n",
              "    .dataframe tbody tr th:only-of-type {\n",
              "        vertical-align: middle;\n",
              "    }\n",
              "\n",
              "    .dataframe tbody tr th {\n",
              "        vertical-align: top;\n",
              "    }\n",
              "\n",
              "    .dataframe thead th {\n",
              "        text-align: right;\n",
              "    }\n",
              "</style>\n",
              "<table border=\"1\" class=\"dataframe\">\n",
              "  <thead>\n",
              "    <tr style=\"text-align: right;\">\n",
              "      <th>col_0</th>\n",
              "      <th>rates</th>\n",
              "    </tr>\n",
              "    <tr>\n",
              "      <th>location</th>\n",
              "      <th></th>\n",
              "    </tr>\n",
              "  </thead>\n",
              "  <tbody>\n",
              "    <tr>\n",
              "      <th>BTM</th>\n",
              "      <td>0.063092</td>\n",
              "    </tr>\n",
              "    <tr>\n",
              "      <th>Banashankari</th>\n",
              "      <td>0.016889</td>\n",
              "    </tr>\n",
              "    <tr>\n",
              "      <th>Banaswadi</th>\n",
              "      <td>0.008767</td>\n",
              "    </tr>\n",
              "    <tr>\n",
              "      <th>Bannerghatta Road</th>\n",
              "      <td>0.022537</td>\n",
              "    </tr>\n",
              "    <tr>\n",
              "      <th>Basavanagudi</th>\n",
              "      <td>0.012263</td>\n",
              "    </tr>\n",
              "    <tr>\n",
              "      <th>Basaveshwara Nagar</th>\n",
              "      <td>0.003012</td>\n",
              "    </tr>\n",
              "    <tr>\n",
              "      <th>Bellandur</th>\n",
              "      <td>0.020170</td>\n",
              "    </tr>\n",
              "    <tr>\n",
              "      <th>Bommanahalli</th>\n",
              "      <td>0.001130</td>\n",
              "    </tr>\n",
              "    <tr>\n",
              "      <th>Brigade Road</th>\n",
              "      <td>0.024043</td>\n",
              "    </tr>\n",
              "    <tr>\n",
              "      <th>Brookefield</th>\n",
              "      <td>0.013500</td>\n",
              "    </tr>\n",
              "  </tbody>\n",
              "</table>\n",
              "</div>"
            ],
            "text/plain": [
              "col_0                  rates\n",
              "location                    \n",
              "BTM                 0.063092\n",
              "Banashankari        0.016889\n",
              "Banaswadi           0.008767\n",
              "Bannerghatta Road   0.022537\n",
              "Basavanagudi        0.012263\n",
              "Basaveshwara Nagar  0.003012\n",
              "Bellandur           0.020170\n",
              "Bommanahalli        0.001130\n",
              "Brigade Road        0.024043\n",
              "Brookefield         0.013500"
            ]
          },
          "metadata": {
            "tags": []
          },
          "execution_count": 371
        }
      ]
    },
    {
      "cell_type": "code",
      "metadata": {
        "id": "Uf3zI1BCVoik",
        "colab_type": "code",
        "outputId": "6322136f-99dc-42d3-81f3-1313f0ce724b",
        "colab": {
          "base_uri": "https://localhost:8080/",
          "height": 447
        }
      },
      "source": [
        "Rate_location.plot.bar()"
      ],
      "execution_count": 0,
      "outputs": [
        {
          "output_type": "execute_result",
          "data": {
            "text/plain": [
              "<matplotlib.axes._subplots.AxesSubplot at 0x7fa65d1aaf60>"
            ]
          },
          "metadata": {
            "tags": []
          },
          "execution_count": 372
        },
        {
          "output_type": "display_data",
          "data": {
            "image/png": "[encoded data removed]",
            "text/plain": [
              "<Figure size 1080x360 with 1 Axes>"
            ]
          },
          "metadata": {
            "tags": []
          }
        }
      ]
    },
    {
      "cell_type": "markdown",
      "metadata": {
        "id": "1qww5slQWfRh",
        "colab_type": "text"
      },
      "source": [
        "1.It is observed BTM restaurants have more number of ratings\n",
        "\n",
        "\n",
        "2.It can be observed though HSR has second most number of resaturants but it's ratings are not in top 10"
      ]
    },
    {
      "cell_type": "markdown",
      "metadata": {
        "id": "0s2PtfNoYDCG",
        "colab_type": "text"
      },
      "source": [
        "# Restaurant Type"
      ]
    },
    {
      "cell_type": "code",
      "metadata": {
        "id": "O3wHhkeCV04V",
        "colab_type": "code",
        "outputId": "ccad4bf3-ddbd-4f05-e923-37ad82813ba5",
        "colab": {
          "base_uri": "https://localhost:8080/",
          "height": 204
        }
      },
      "source": [
        "data['rest_type'].value_counts().head(10)"
      ],
      "execution_count": 0,
      "outputs": [
        {
          "output_type": "execute_result",
          "data": {
            "text/plain": [
              "Casual Dining         5912\n",
              "Quick Bites           4203\n",
              "Cafe                  1874\n",
              "Dessert Parlor         860\n",
              "Casual Dining, Bar     773\n",
              "Delivery               566\n",
              "Bar                    293\n",
              "Bar, Casual Dining     280\n",
              "Takeaway, Delivery     269\n",
              "Pub                    266\n",
              "Name: rest_type, dtype: int64"
            ]
          },
          "metadata": {
            "tags": []
          },
          "execution_count": 373
        }
      ]
    },
    {
      "cell_type": "code",
      "metadata": {
        "id": "HjQZZi-1YxkZ",
        "colab_type": "code",
        "outputId": "b3bd2cdc-cfec-475d-cc9c-87ca221883de",
        "colab": {
          "base_uri": "https://localhost:8080/",
          "height": 425
        }
      },
      "source": [
        "data['rest_type'].value_counts().head(10).plot.bar()"
      ],
      "execution_count": 0,
      "outputs": [
        {
          "output_type": "execute_result",
          "data": {
            "text/plain": [
              "<matplotlib.axes._subplots.AxesSubplot at 0x7fa65dae6550>"
            ]
          },
          "metadata": {
            "tags": []
          },
          "execution_count": 374
        },
        {
          "output_type": "display_data",
          "data": {
            "image/png": "[encoded data removed]",
            "text/plain": [
              "<Figure size 1080x360 with 1 Axes>"
            ]
          },
          "metadata": {
            "tags": []
          }
        }
      ]
    },
    {
      "cell_type": "markdown",
      "metadata": {
        "id": "8t8nwZa3w_ea",
        "colab_type": "text"
      },
      "source": [
        "Casual dining type is most famous among bangaloreans"
      ]
    },
    {
      "cell_type": "markdown",
      "metadata": {
        "id": "gQu_qh1IbDXF",
        "colab_type": "text"
      },
      "source": [
        "# Average cost"
      ]
    },
    {
      "cell_type": "code",
      "metadata": {
        "id": "iWyLDbteY1ZL",
        "colab_type": "code",
        "outputId": "05940c23-2c8b-4899-bc17-210ed5f8c037",
        "colab": {
          "base_uri": "https://localhost:8080/",
          "height": 204
        }
      },
      "source": [
        "data['average_cost'].value_counts()[:10]"
      ],
      "execution_count": 0,
      "outputs": [
        {
          "output_type": "execute_result",
          "data": {
            "text/plain": [
              "400      1961\n",
              "500      1854\n",
              "600      1744\n",
              "300      1362\n",
              "800      1316\n",
              "1,000     969\n",
              "700       965\n",
              "1,200     719\n",
              "200       687\n",
              "1,500     683\n",
              "Name: average_cost, dtype: int64"
            ]
          },
          "metadata": {
            "tags": []
          },
          "execution_count": 375
        }
      ]
    },
    {
      "cell_type": "code",
      "metadata": {
        "id": "jWeFALjhbI71",
        "colab_type": "code",
        "outputId": "17636653-04e1-4209-f6fb-46d35d910ee5",
        "colab": {
          "base_uri": "https://localhost:8080/",
          "height": 482
        }
      },
      "source": [
        "plt.figure(figsize = (12,8))\n",
        "data['average_cost'].value_counts()[:10].plot(kind = 'pie')\n",
        "plt.title('Avg cost in Restaurent for 2 people', weight = 'bold')\n",
        "plt.show()"
      ],
      "execution_count": 0,
      "outputs": [
        {
          "output_type": "display_data",
          "data": {
            "image/png": "[encoded data removed]",
            "text/plain": [
              "<Figure size 864x576 with 1 Axes>"
            ]
          },
          "metadata": {
            "tags": []
          }
        }
      ]
    },
    {
      "cell_type": "markdown",
      "metadata": {
        "id": "JjhqMjTSbwXf",
        "colab_type": "text"
      },
      "source": [
        "Average cost is Rs 300"
      ]
    },
    {
      "cell_type": "markdown",
      "metadata": {
        "id": "X5slY7oCb-zF",
        "colab_type": "text"
      },
      "source": [
        "# Dish Liked"
      ]
    },
    {
      "cell_type": "code",
      "metadata": {
        "id": "bGcdW8txbOLC",
        "colab_type": "code",
        "colab": {}
      },
      "source": [
        "data.dish_liked=data.dish_liked.apply(lambda x:x.lower().strip())"
      ],
      "execution_count": 0,
      "outputs": []
    },
    {
      "cell_type": "code",
      "metadata": {
        "id": "TD6XA6_jbiOU",
        "colab_type": "code",
        "colab": {}
      },
      "source": [
        "# count each dish to see how many times each dish repeated\n",
        "dish_count = []\n",
        "for i in data.dish_liked:\n",
        "    for t in i.split(','):\n",
        "        t = t.strip() # remove the white spaces to get accurate results\n",
        "        dish_count.append(t)"
      ],
      "execution_count": 0,
      "outputs": []
    },
    {
      "cell_type": "code",
      "metadata": {
        "id": "j347G-MKcHKp",
        "colab_type": "code",
        "outputId": "8ce9e7d7-8763-4663-da02-5a72a22d6f3f",
        "colab": {
          "base_uri": "https://localhost:8080/",
          "height": 469
        }
      },
      "source": [
        "plt.figure(figsize=(12,6)) \n",
        "pd.Series(dish_count).value_counts()[:10].plot(kind='bar',color= 'c')\n",
        "plt.title('Top 10 dished_liked in Bangalore',weight='bold')\n",
        "plt.xlabel('Dish')\n",
        "plt.ylabel('Count')"
      ],
      "execution_count": 0,
      "outputs": [
        {
          "output_type": "execute_result",
          "data": {
            "text/plain": [
              "Text(0, 0.5, 'Count')"
            ]
          },
          "metadata": {
            "tags": []
          },
          "execution_count": 379
        },
        {
          "output_type": "display_data",
          "data": {
            "image/png": "[encoded data removed]",
            "text/plain": [
              "<Figure size 864x432 with 1 Axes>"
            ]
          },
          "metadata": {
            "tags": []
          }
        }
      ]
    },
    {
      "cell_type": "markdown",
      "metadata": {
        "id": "zn8SWuL5xne_",
        "colab_type": "text"
      },
      "source": [
        "It is observed pasta is loved by bangaloreans"
      ]
    },
    {
      "cell_type": "markdown",
      "metadata": {
        "id": "4npDMsm3xwQw",
        "colab_type": "text"
      },
      "source": [
        "# Rates"
      ]
    },
    {
      "cell_type": "code",
      "metadata": {
        "id": "MTfLDw-qc9S1",
        "colab_type": "code",
        "colab": {}
      },
      "source": [
        "data['rates']=data['rates'].astype(float) #Converting strin to float type"
      ],
      "execution_count": 0,
      "outputs": []
    },
    {
      "cell_type": "code",
      "metadata": {
        "id": "jTWZlcuXcKuu",
        "colab_type": "code",
        "outputId": "d48529e3-22f1-41ab-92e3-73b85422a026",
        "colab": {
          "base_uri": "https://localhost:8080/",
          "height": 204
        }
      },
      "source": [
        "data.rates.value_counts().head(10)"
      ],
      "execution_count": 0,
      "outputs": [
        {
          "output_type": "execute_result",
          "data": {
            "text/plain": [
              "3.9    2605\n",
              "4.0    2328\n",
              "4.1    2255\n",
              "3.8    1974\n",
              "4.2    1702\n",
              "4.3    1350\n",
              "3.7    1307\n",
              "4.4     920\n",
              "3.6     698\n",
              "4.5     509\n",
              "Name: rates, dtype: int64"
            ]
          },
          "metadata": {
            "tags": []
          },
          "execution_count": 381
        }
      ]
    },
    {
      "cell_type": "markdown",
      "metadata": {
        "id": "ZJtJXwagek6C",
        "colab_type": "text"
      },
      "source": [
        "It is clearly observde that average rate is 3.9"
      ]
    },
    {
      "cell_type": "markdown",
      "metadata": {
        "id": "5m2tQy5JgMLO",
        "colab_type": "text"
      },
      "source": [
        "# Cuisines"
      ]
    },
    {
      "cell_type": "code",
      "metadata": {
        "id": "wLLbKGnBfpqm",
        "colab_type": "code",
        "colab": {}
      },
      "source": [
        "#lets delete the nulll values\n",
        "#cuisines_data = data[data.cuisines.notnull()]\n",
        "data.cuisines = data.cuisines.apply(lambda x:x.lower().strip())"
      ],
      "execution_count": 0,
      "outputs": []
    },
    {
      "cell_type": "code",
      "metadata": {
        "id": "WfhuFj_-gXcl",
        "colab_type": "code",
        "colab": {}
      },
      "source": [
        "cuisines_count= []\n",
        "\n",
        "for i in data.cuisines:\n",
        "    for j in i.split(','):\n",
        "        j = j.strip()\n",
        "        cuisines_count.append(j)"
      ],
      "execution_count": 0,
      "outputs": []
    },
    {
      "cell_type": "code",
      "metadata": {
        "id": "s7iFYee8gnDZ",
        "colab_type": "code",
        "outputId": "20b486ca-262a-486e-e5a3-18558da28806",
        "colab": {
          "base_uri": "https://localhost:8080/",
          "height": 473
        }
      },
      "source": [
        "plt.figure(figsize=(12,6)) \n",
        "pd.Series(cuisines_count).value_counts()[:10].plot(kind='bar',color= 'r')\n",
        "plt.title('Top 10 cuisines in Bangalore',weight='bold')\n",
        "plt.xlabel('cuisines type')\n",
        "plt.ylabel('No of restaurants')"
      ],
      "execution_count": 0,
      "outputs": [
        {
          "output_type": "execute_result",
          "data": {
            "text/plain": [
              "Text(0, 0.5, 'No of restaurants')"
            ]
          },
          "metadata": {
            "tags": []
          },
          "execution_count": 384
        },
        {
          "output_type": "display_data",
          "data": {
            "image/png": "[encoded data removed]",
            "text/plain": [
              "<Figure size 864x432 with 1 Axes>"
            ]
          },
          "metadata": {
            "tags": []
          }
        }
      ]
    },
    {
      "cell_type": "markdown",
      "metadata": {
        "id": "_PYxst75yXcz",
        "colab_type": "text"
      },
      "source": [
        "Noth Indian cuisine is most loved by Bangaloreans"
      ]
    },
    {
      "cell_type": "markdown",
      "metadata": {
        "id": "ZjZI2-1w118H",
        "colab_type": "text"
      },
      "source": [
        "# Summary:\n",
        "1.Cafe coffee day is most famous in Bangalore\n",
        "\n",
        "2.Restaurants which have online order has better rates.\n",
        "\n",
        "3.Restaurants which have no booking table has better rates.\n",
        "\n",
        "4.It is observed BTM restaurants have more number of ratings\n",
        "\n",
        "\n",
        "5.It can be observed though HSR has second most number of resaturants but it's ratings are not in top 10\n",
        "\n",
        "6.Casual dining type is most famous among bangaloreans\n",
        "\n",
        "7.Average cost is Rs 300\n",
        "\n",
        "8.Pasta is loved by bangaloreans\n",
        "\n",
        "9.Noth Indian cuisine is the most loved by Bangaloreans"
      ]
    },
    {
      "cell_type": "markdown",
      "metadata": {
        "id": "OpUNIcLziwbY",
        "colab_type": "text"
      },
      "source": [
        "# MODELLING PROCESS"
      ]
    },
    {
      "cell_type": "code",
      "metadata": {
        "id": "1SEWtNIsi3b7",
        "colab_type": "code",
        "outputId": "dfb10672-3976-479e-d746-5a9d8d369582",
        "colab": {
          "base_uri": "https://localhost:8080/",
          "height": 238
        }
      },
      "source": [
        "data.dtypes"
      ],
      "execution_count": 0,
      "outputs": [
        {
          "output_type": "execute_result",
          "data": {
            "text/plain": [
              "name             object\n",
              "online_order     object\n",
              "book_table       object\n",
              "votes             int64\n",
              "location         object\n",
              "rest_type        object\n",
              "dish_liked       object\n",
              "cuisines         object\n",
              "average_cost     object\n",
              "reviews_list     object\n",
              "menu_item        object\n",
              "rates           float64\n",
              "dtype: object"
            ]
          },
          "metadata": {
            "tags": []
          },
          "execution_count": 385
        }
      ]
    },
    {
      "cell_type": "code",
      "metadata": {
        "id": "5e3RZCuQi-Q-",
        "colab_type": "code",
        "colab": {}
      },
      "source": [
        "from sklearn.preprocessing import LabelEncoder #Label encoding\n",
        "T = LabelEncoder()                 \n",
        "data['location'] = T.fit_transform(data['location'])\n",
        "data['rest_type'] = T.fit_transform(data['rest_type'])\n",
        "data['cuisines'] = T.fit_transform(data['cuisines'])\n",
        "data['dish_liked'] = T.fit_transform(data['dish_liked'])\n",
        "data['online_order'] = T.fit_transform(data['online_order'])\n",
        "data['book_table']= T.fit_transform(data['book_table'])"
      ],
      "execution_count": 0,
      "outputs": []
    },
    {
      "cell_type": "code",
      "metadata": {
        "id": "l1RDQBizkRGW",
        "colab_type": "code",
        "colab": {}
      },
      "source": [
        "data[\"average_cost\"] = data[\"average_cost\"].str.replace(',' , '')  #converting strin to float\n",
        "data[\"average_cost\"] = data[\"average_cost\"].astype('float')"
      ],
      "execution_count": 0,
      "outputs": []
    },
    {
      "cell_type": "code",
      "metadata": {
        "id": "dWjyIyRSl1qe",
        "colab_type": "code",
        "outputId": "035e0c23-5497-4257-d3cc-7168c8c43c9a",
        "colab": {
          "base_uri": "https://localhost:8080/",
          "height": 238
        }
      },
      "source": [
        "data.dtypes"
      ],
      "execution_count": 0,
      "outputs": [
        {
          "output_type": "execute_result",
          "data": {
            "text/plain": [
              "name             object\n",
              "online_order      int64\n",
              "book_table        int64\n",
              "votes             int64\n",
              "location          int64\n",
              "rest_type         int64\n",
              "dish_liked        int64\n",
              "cuisines          int64\n",
              "average_cost    float64\n",
              "reviews_list     object\n",
              "menu_item        object\n",
              "rates           float64\n",
              "dtype: object"
            ]
          },
          "metadata": {
            "tags": []
          },
          "execution_count": 388
        }
      ]
    },
    {
      "cell_type": "code",
      "metadata": {
        "id": "fD0QeHGSl3ik",
        "colab_type": "code",
        "colab": {}
      },
      "source": [
        "data.drop(columns=['reviews_list','menu_item'], inplace  =True) #Deletin the columns"
      ],
      "execution_count": 0,
      "outputs": []
    },
    {
      "cell_type": "code",
      "metadata": {
        "id": "kl-7tN0QzeTe",
        "colab_type": "code",
        "outputId": "688c6c6c-58f5-441b-e7fc-21306c3adaef",
        "colab": {
          "base_uri": "https://localhost:8080/",
          "height": 204
        }
      },
      "source": [
        "data.dtypes"
      ],
      "execution_count": 0,
      "outputs": [
        {
          "output_type": "execute_result",
          "data": {
            "text/plain": [
              "name             object\n",
              "online_order      int64\n",
              "book_table        int64\n",
              "votes             int64\n",
              "location          int64\n",
              "rest_type         int64\n",
              "dish_liked        int64\n",
              "cuisines          int64\n",
              "average_cost    float64\n",
              "rates           float64\n",
              "dtype: object"
            ]
          },
          "metadata": {
            "tags": []
          },
          "execution_count": 390
        }
      ]
    },
    {
      "cell_type": "markdown",
      "metadata": {
        "id": "8cSdfEKymKeX",
        "colab_type": "text"
      },
      "source": [
        "# Splitting data"
      ]
    },
    {
      "cell_type": "code",
      "metadata": {
        "id": "cOsF_ollmI0E",
        "colab_type": "code",
        "colab": {}
      },
      "source": [
        "X = data.drop(['rates','name'],axis = 1)\n",
        "y = data['rates']"
      ],
      "execution_count": 0,
      "outputs": []
    },
    {
      "cell_type": "code",
      "metadata": {
        "id": "I_RJPUiSzFHJ",
        "colab_type": "code",
        "outputId": "85efc43b-6388-476f-db82-9df15acf4c86",
        "colab": {
          "base_uri": "https://localhost:8080/",
          "height": 255
        }
      },
      "source": [
        "#standarizing\n",
        "#taking numeric values\n",
        "from sklearn.preprocessing import StandardScaler\n",
        "num_values1=data.select_dtypes(['float64','int64']).columns\n",
        "scaler = StandardScaler()\n",
        "scaler.fit(data[num_values1])\n",
        "data[num_values1]=scaler.transform(data[num_values1])\n",
        "data.head(5)"
      ],
      "execution_count": 0,
      "outputs": [
        {
          "output_type": "execute_result",
          "data": {
            "text/html": [
              "<div>\n",
              "<style scoped>\n",
              "    .dataframe tbody tr th:only-of-type {\n",
              "        vertical-align: middle;\n",
              "    }\n",
              "\n",
              "    .dataframe tbody tr th {\n",
              "        vertical-align: top;\n",
              "    }\n",
              "\n",
              "    .dataframe thead th {\n",
              "        text-align: right;\n",
              "    }\n",
              "</style>\n",
              "<table border=\"1\" class=\"dataframe\">\n",
              "  <thead>\n",
              "    <tr style=\"text-align: right;\">\n",
              "      <th></th>\n",
              "      <th>name</th>\n",
              "      <th>online_order</th>\n",
              "      <th>book_table</th>\n",
              "      <th>votes</th>\n",
              "      <th>location</th>\n",
              "      <th>rest_type</th>\n",
              "      <th>dish_liked</th>\n",
              "      <th>cuisines</th>\n",
              "      <th>average_cost</th>\n",
              "      <th>rates</th>\n",
              "    </tr>\n",
              "  </thead>\n",
              "  <tbody>\n",
              "    <tr>\n",
              "      <th>1</th>\n",
              "      <td>The Boozy Griffin</td>\n",
              "      <td>-1.541052</td>\n",
              "      <td>1.686329</td>\n",
              "      <td>3.945124</td>\n",
              "      <td>0.281036</td>\n",
              "      <td>-0.338625</td>\n",
              "      <td>-0.720954</td>\n",
              "      <td>-0.129784</td>\n",
              "      <td>2.011102</td>\n",
              "      <td>1.626822</td>\n",
              "    </tr>\n",
              "    <tr>\n",
              "      <th>3</th>\n",
              "      <td>Sriracha</td>\n",
              "      <td>-1.541052</td>\n",
              "      <td>-0.593004</td>\n",
              "      <td>0.083064</td>\n",
              "      <td>0.539061</td>\n",
              "      <td>-0.631055</td>\n",
              "      <td>0.444937</td>\n",
              "      <td>1.671811</td>\n",
              "      <td>1.435326</td>\n",
              "      <td>0.922851</td>\n",
              "    </tr>\n",
              "    <tr>\n",
              "      <th>7</th>\n",
              "      <td>Chez Nous - Novotel</td>\n",
              "      <td>-1.541052</td>\n",
              "      <td>1.686329</td>\n",
              "      <td>-0.430565</td>\n",
              "      <td>0.754083</td>\n",
              "      <td>0.636141</td>\n",
              "      <td>-0.614901</td>\n",
              "      <td>-0.123350</td>\n",
              "      <td>3.354578</td>\n",
              "      <td>-0.015777</td>\n",
              "    </tr>\n",
              "    <tr>\n",
              "      <th>8</th>\n",
              "      <td>Maxpresso</td>\n",
              "      <td>-1.541052</td>\n",
              "      <td>-0.593004</td>\n",
              "      <td>-0.252495</td>\n",
              "      <td>0.367044</td>\n",
              "      <td>-0.972223</td>\n",
              "      <td>-1.347507</td>\n",
              "      <td>-1.103503</td>\n",
              "      <td>-0.100075</td>\n",
              "      <td>0.453537</td>\n",
              "    </tr>\n",
              "    <tr>\n",
              "      <th>9</th>\n",
              "      <td>Hyderabadi Biryani Hub</td>\n",
              "      <td>0.648907</td>\n",
              "      <td>-0.593004</td>\n",
              "      <td>-0.347347</td>\n",
              "      <td>-1.525143</td>\n",
              "      <td>-0.631055</td>\n",
              "      <td>-1.465422</td>\n",
              "      <td>-1.223609</td>\n",
              "      <td>-0.292000</td>\n",
              "      <td>-0.719748</td>\n",
              "    </tr>\n",
              "  </tbody>\n",
              "</table>\n",
              "</div>"
            ],
            "text/plain": [
              "                     name  online_order  ...  average_cost     rates\n",
              "1       The Boozy Griffin     -1.541052  ...      2.011102  1.626822\n",
              "3                Sriracha     -1.541052  ...      1.435326  0.922851\n",
              "7     Chez Nous - Novotel     -1.541052  ...      3.354578 -0.015777\n",
              "8               Maxpresso     -1.541052  ...     -0.100075  0.453537\n",
              "9  Hyderabadi Biryani Hub      0.648907  ...     -0.292000 -0.719748\n",
              "\n",
              "[5 rows x 10 columns]"
            ]
          },
          "metadata": {
            "tags": []
          },
          "execution_count": 392
        }
      ]
    },
    {
      "cell_type": "code",
      "metadata": {
        "id": "e7-GOqoOmbP5",
        "colab_type": "code",
        "colab": {}
      },
      "source": [
        "from sklearn.model_selection import train_test_split\n",
        "seed = 10\n",
        "X_train, X_test, y_train, y_test = train_test_split(X,y,random_state=seed, test_size=.2)"
      ],
      "execution_count": 0,
      "outputs": []
    },
    {
      "cell_type": "code",
      "metadata": {
        "id": "UL0LLpbLrs8C",
        "colab_type": "code",
        "outputId": "aff6c828-5e10-40e0-81fe-f4adc56db61c",
        "colab": {
          "base_uri": "https://localhost:8080/",
          "height": 51
        }
      },
      "source": [
        "print(X.shape)\n",
        "print(y.shape)"
      ],
      "execution_count": 0,
      "outputs": [
        {
          "output_type": "stream",
          "text": [
            "(18592, 8)\n",
            "(18592,)\n"
          ],
          "name": "stdout"
        }
      ]
    },
    {
      "cell_type": "code",
      "metadata": {
        "id": "scZdQdzFn_WL",
        "colab_type": "code",
        "colab": {}
      },
      "source": [
        "from sklearn.model_selection import train_test_split"
      ],
      "execution_count": 0,
      "outputs": []
    },
    {
      "cell_type": "code",
      "metadata": {
        "id": "P1WDA-TtoKb7",
        "colab_type": "code",
        "outputId": "329d5b90-2fad-4abb-d4e1-75e7693a8ce8",
        "colab": {
          "base_uri": "https://localhost:8080/",
          "height": 34
        }
      },
      "source": [
        "#1.Linear Regression\n",
        "from sklearn.linear_model import LinearRegression\n",
        "lr = LinearRegression()\n",
        "lr.fit(X_train,y_train)\n",
        "y_pred_lr = lr.predict(X_test)\n",
        "lr.score(X_test,y_test)*100"
      ],
      "execution_count": 0,
      "outputs": [
        {
          "output_type": "execute_result",
          "data": {
            "text/plain": [
              "21.810423629182097"
            ]
          },
          "metadata": {
            "tags": []
          },
          "execution_count": 396
        }
      ]
    },
    {
      "cell_type": "code",
      "metadata": {
        "id": "pY90ed-au7UY",
        "colab_type": "code",
        "outputId": "392fa98b-03c2-4cb6-cc6f-5537f8c4a3d3",
        "colab": {
          "base_uri": "https://localhost:8080/",
          "height": 34
        }
      },
      "source": [
        "#2.Random forest\n",
        "from sklearn import metrics\n",
        "from sklearn.ensemble import RandomForestRegressor\n",
        "rfr = RandomForestRegressor()\n",
        "rfr.fit(X_train,y_train)\n",
        "y_pred_rfr = rfr.predict(X_test)\n",
        "rfr.score(X_test,y_test)*100"
      ],
      "execution_count": 0,
      "outputs": [
        {
          "output_type": "execute_result",
          "data": {
            "text/plain": [
              "89.85475921514093"
            ]
          },
          "metadata": {
            "tags": []
          },
          "execution_count": 397
        }
      ]
    },
    {
      "cell_type": "code",
      "metadata": {
        "id": "y3nEA-yyytCm",
        "colab_type": "code",
        "outputId": "78bb6249-53cc-4c0f-8e43-8c2142a094a8",
        "colab": {
          "base_uri": "https://localhost:8080/",
          "height": 34
        }
      },
      "source": [
        "#3.KNN\n",
        "from sklearn.neighbors import KNeighborsRegressor\n",
        "knn=KNeighborsRegressor(n_jobs=-1)\n",
        "knn.fit(X_train,y_train)\n",
        "Y_knn_pred=knn.predict(X_test)\n",
        "knn.score(X_train,y_train)*100"
      ],
      "execution_count": 0,
      "outputs": [
        {
          "output_type": "execute_result",
          "data": {
            "text/plain": [
              "83.3496388961181"
            ]
          },
          "metadata": {
            "tags": []
          },
          "execution_count": 398
        }
      ]
    },
    {
      "cell_type": "code",
      "metadata": {
        "id": "rYSrm9GN0cUS",
        "colab_type": "code",
        "outputId": "a01a8c57-19fe-4634-bb02-bbe4e688b8f3",
        "colab": {
          "base_uri": "https://localhost:8080/",
          "height": 88
        }
      },
      "source": [
        "#4.SVR\n",
        "from sklearn.svm import LinearSVR\n",
        "svr=LinearSVR(random_state=42)\n",
        "svr.fit(X_train,y_train)\n",
        "Y_svr_pred=svr.predict(X_test)\n",
        "svr.score(X_train,y_train)*100"
      ],
      "execution_count": 0,
      "outputs": [
        {
          "output_type": "stream",
          "text": [
            "/usr/local/lib/python3.6/dist-packages/sklearn/svm/_base.py:947: ConvergenceWarning: Liblinear failed to converge, increase the number of iterations.\n",
            "  \"the number of iterations.\", ConvergenceWarning)\n"
          ],
          "name": "stderr"
        },
        {
          "output_type": "execute_result",
          "data": {
            "text/plain": [
              "-50.89289292499324"
            ]
          },
          "metadata": {
            "tags": []
          },
          "execution_count": 399
        }
      ]
    },
    {
      "cell_type": "code",
      "metadata": {
        "id": "FFXcVC5I0dUk",
        "colab_type": "code",
        "outputId": "688e1dbe-8c82-45a8-92d5-720d431a3858",
        "colab": {
          "base_uri": "https://localhost:8080/",
          "height": 34
        }
      },
      "source": [
        "#5.Gradient Boosting\n",
        "from sklearn.experimental import enable_hist_gradient_boosting\n",
        "from sklearn.ensemble import HistGradientBoostingRegressor\n",
        "gbr=HistGradientBoostingRegressor(random_state=42)\n",
        "gbr.fit(X_train,y_train)\n",
        "Y_gbr_pred=gbr.predict(X_test)\n",
        "gbr.score(X_train,y_train)*100"
      ],
      "execution_count": 0,
      "outputs": [
        {
          "output_type": "execute_result",
          "data": {
            "text/plain": [
              "70.56779924903122"
            ]
          },
          "metadata": {
            "tags": []
          },
          "execution_count": 400
        }
      ]
    },
    {
      "cell_type": "markdown",
      "metadata": {
        "id": "a6V-6nhw1Ecb",
        "colab_type": "text"
      },
      "source": [
        "It is observed Random forest has better score therefore using random forest for predicting value"
      ]
    },
    {
      "cell_type": "code",
      "metadata": {
        "id": "t5qd0V98yKRh",
        "colab_type": "code",
        "outputId": "6598c92a-e4b1-41f5-ad21-31228351171b",
        "colab": {
          "base_uri": "https://localhost:8080/",
          "height": 419
        }
      },
      "source": [
        "Randpred = pd.DataFrame({ \"actual\": y_test, \"pred\": y_pred_rfr })\n",
        "Randpred"
      ],
      "execution_count": 0,
      "outputs": [
        {
          "output_type": "execute_result",
          "data": {
            "text/html": [
              "<div>\n",
              "<style scoped>\n",
              "    .dataframe tbody tr th:only-of-type {\n",
              "        vertical-align: middle;\n",
              "    }\n",
              "\n",
              "    .dataframe tbody tr th {\n",
              "        vertical-align: top;\n",
              "    }\n",
              "\n",
              "    .dataframe thead th {\n",
              "        text-align: right;\n",
              "    }\n",
              "</style>\n",
              "<table border=\"1\" class=\"dataframe\">\n",
              "  <thead>\n",
              "    <tr style=\"text-align: right;\">\n",
              "      <th></th>\n",
              "      <th>actual</th>\n",
              "      <th>pred</th>\n",
              "    </tr>\n",
              "  </thead>\n",
              "  <tbody>\n",
              "    <tr>\n",
              "      <th>3678</th>\n",
              "      <td>1.392165</td>\n",
              "      <td>1.366353</td>\n",
              "    </tr>\n",
              "    <tr>\n",
              "      <th>33191</th>\n",
              "      <td>0.453537</td>\n",
              "      <td>0.438989</td>\n",
              "    </tr>\n",
              "    <tr>\n",
              "      <th>16791</th>\n",
              "      <td>1.861479</td>\n",
              "      <td>1.833321</td>\n",
              "    </tr>\n",
              "    <tr>\n",
              "      <th>17677</th>\n",
              "      <td>-0.954405</td>\n",
              "      <td>-0.974351</td>\n",
              "    </tr>\n",
              "    <tr>\n",
              "      <th>30596</th>\n",
              "      <td>-0.015777</td>\n",
              "      <td>0.038194</td>\n",
              "    </tr>\n",
              "    <tr>\n",
              "      <th>...</th>\n",
              "      <td>...</td>\n",
              "      <td>...</td>\n",
              "    </tr>\n",
              "    <tr>\n",
              "      <th>8956</th>\n",
              "      <td>-0.719748</td>\n",
              "      <td>-0.719748</td>\n",
              "    </tr>\n",
              "    <tr>\n",
              "      <th>1322</th>\n",
              "      <td>-0.015777</td>\n",
              "      <td>0.076209</td>\n",
              "    </tr>\n",
              "    <tr>\n",
              "      <th>5877</th>\n",
              "      <td>-0.250434</td>\n",
              "      <td>-0.250434</td>\n",
              "    </tr>\n",
              "    <tr>\n",
              "      <th>22478</th>\n",
              "      <td>-0.250434</td>\n",
              "      <td>-0.269206</td>\n",
              "    </tr>\n",
              "    <tr>\n",
              "      <th>26349</th>\n",
              "      <td>1.861479</td>\n",
              "      <td>1.563465</td>\n",
              "    </tr>\n",
              "  </tbody>\n",
              "</table>\n",
              "<p>3719 rows × 2 columns</p>\n",
              "</div>"
            ],
            "text/plain": [
              "         actual      pred\n",
              "3678   1.392165  1.366353\n",
              "33191  0.453537  0.438989\n",
              "16791  1.861479  1.833321\n",
              "17677 -0.954405 -0.974351\n",
              "30596 -0.015777  0.038194\n",
              "...         ...       ...\n",
              "8956  -0.719748 -0.719748\n",
              "1322  -0.015777  0.076209\n",
              "5877  -0.250434 -0.250434\n",
              "22478 -0.250434 -0.269206\n",
              "26349  1.861479  1.563465\n",
              "\n",
              "[3719 rows x 2 columns]"
            ]
          },
          "metadata": {
            "tags": []
          },
          "execution_count": 401
        }
      ]
    },
    {
      "cell_type": "code",
      "metadata": {
        "id": "SBpep0U10Gua",
        "colab_type": "code",
        "colab": {}
      },
      "source": [
        ""
      ],
      "execution_count": 0,
      "outputs": []
    }
  ]
}